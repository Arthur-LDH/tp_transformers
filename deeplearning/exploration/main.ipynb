{
 "cells": [
  {
   "metadata": {},
   "cell_type": "markdown",
   "source": "# Partie 3 : Analyse comparative et optimisation",
   "id": "fa62cb8a15db7000"
  },
  {
   "metadata": {},
   "cell_type": "markdown",
   "source": "## A - Evaluation multi-modèles",
   "id": "2601a407de2e32f4"
  },
  {
   "metadata": {
    "ExecuteTime": {
     "end_time": "2025-06-12T13:52:43.559396Z",
     "start_time": "2025-06-12T13:52:43.555849Z"
    }
   },
   "cell_type": "code",
   "source": [
    "import torch\n",
    "import pandas as pd\n",
    "import numpy as np\n",
    "import matplotlib.pyplot as plt\n",
    "import seaborn as sns\n",
    "from transformers import (\n",
    "    AutoTokenizer, AutoModelForSequenceClassification,\n",
    "    pipeline, Trainer, TrainingArguments\n",
    ")\n",
    "from datasets import Dataset\n",
    "import time\n",
    "import psutil\n",
    "import gc\n",
    "from sklearn.metrics import accuracy_score, f1_score, precision_score, recall_score"
   ],
   "id": "b7de88897b4b10ce",
   "outputs": [],
   "execution_count": 30
  },
  {
   "metadata": {
    "ExecuteTime": {
     "end_time": "2025-06-12T13:52:43.567497Z",
     "start_time": "2025-06-12T13:52:43.564262Z"
    }
   },
   "cell_type": "code",
   "source": [
    "device = torch.device('cuda' if torch.cuda.is_available() else 'cpu')\n",
    "print(f\"Device utilisé: {device}\")"
   ],
   "id": "86fea013e4c304ee",
   "outputs": [
    {
     "name": "stdout",
     "output_type": "stream",
     "text": [
      "Device utilisé: cpu\n"
     ]
    }
   ],
   "execution_count": 31
  },
  {
   "metadata": {},
   "cell_type": "markdown",
   "source": "## Modèles de classification",
   "id": "11b9a3035427e3a4"
  },
  {
   "metadata": {
    "ExecuteTime": {
     "end_time": "2025-06-12T13:52:44.140611Z",
     "start_time": "2025-06-12T13:52:43.624387Z"
    }
   },
   "cell_type": "code",
   "source": [
    "# DistilBERT-base-uncased\n",
    "distilbert_tokenizer = AutoTokenizer.from_pretrained(\"distilbert-base-uncased\")\n",
    "distilbert_model = AutoModelForSequenceClassification.from_pretrained(\"distilbert-base-uncased\", num_labels=2).to(device)"
   ],
   "id": "33a04f1df04292e3",
   "outputs": [
    {
     "name": "stderr",
     "output_type": "stream",
     "text": [
      "Some weights of DistilBertForSequenceClassification were not initialized from the model checkpoint at distilbert-base-uncased and are newly initialized: ['classifier.bias', 'classifier.weight', 'pre_classifier.bias', 'pre_classifier.weight']\n",
      "You should probably TRAIN this model on a down-stream task to be able to use it for predictions and inference.\n"
     ]
    }
   ],
   "execution_count": 32
  },
  {
   "metadata": {
    "ExecuteTime": {
     "end_time": "2025-06-12T13:52:44.753245Z",
     "start_time": "2025-06-12T13:52:44.165899Z"
    }
   },
   "cell_type": "code",
   "source": [
    "bert_tokenizer = AutoTokenizer.from_pretrained(\"bert-base-uncased\")\n",
    "bert_model = AutoModelForSequenceClassification.from_pretrained(\"bert-base-uncased\", num_labels=2).to(device)"
   ],
   "id": "19b34aa55ec664d0",
   "outputs": [
    {
     "name": "stderr",
     "output_type": "stream",
     "text": [
      "Some weights of BertForSequenceClassification were not initialized from the model checkpoint at bert-base-uncased and are newly initialized: ['classifier.bias', 'classifier.weight']\n",
      "You should probably TRAIN this model on a down-stream task to be able to use it for predictions and inference.\n"
     ]
    }
   ],
   "execution_count": 33
  },
  {
   "metadata": {
    "ExecuteTime": {
     "end_time": "2025-06-12T13:52:44.777815Z",
     "start_time": "2025-06-12T13:52:44.774694Z"
    }
   },
   "cell_type": "code",
   "source": [
    "test_texts = [\n",
    "    \"I love this product, it's amazing and works perfectly!\",\n",
    "    \"This is terrible, worst experience ever, completely disappointed\",\n",
    "    \"Great service and excellent quality, highly recommend\",\n",
    "    \"Disappointing results, not recommended, poor performance\",\n",
    "    \"Outstanding performance, very satisfied with the purchase\",\n",
    "    \"Poor quality, waste of money, regret buying this\",\n",
    "    \"Excellent customer support, very helpful staff\",\n",
    "    \"Very frustrating experience, technical issues everywhere\",\n",
    "    \"Best purchase I've ever made, exceeded expectations\",\n",
    "    \"Completely useless product, doesn't work as advertised\",\n",
    "    \"Good value for money, decent quality overall\",\n",
    "    \"Horrible customer service, unhelpful and rude staff\",\n",
    "    \"Amazing features, easy to use, great design\",\n",
    "    \"Faulty product, broke after one week of use\",\n",
    "    \"Impressive results, better than expected quality\"\n",
    "]\n",
    "\n",
    "test_labels = [1, 0, 1, 0, 1, 0, 1, 0, 1, 0, 1, 0, 1, 0, 1]"
   ],
   "id": "5cb4152890dd5d79",
   "outputs": [],
   "execution_count": 34
  },
  {
   "metadata": {
    "ExecuteTime": {
     "end_time": "2025-06-12T13:52:44.821883Z",
     "start_time": "2025-06-12T13:52:44.819140Z"
    }
   },
   "cell_type": "code",
   "source": [
    "long_texts = [\n",
    "    \"This is a longer text to test the performance of both models on extended sequences. \" * 10,\n",
    "    \"Another extended text sample that contains multiple sentences and should provide insights into model efficiency. \" * 10,\n",
    "    \"Testing computational efficiency with longer input sequences to understand the trade-offs between model size and performance. \" * 10\n",
    "]"
   ],
   "id": "ff79d26c1013ed00",
   "outputs": [],
   "execution_count": 35
  },
  {
   "metadata": {
    "ExecuteTime": {
     "end_time": "2025-06-12T13:52:44.873005Z",
     "start_time": "2025-06-12T13:52:44.869094Z"
    }
   },
   "cell_type": "code",
   "source": [
    "def measure_inference_time(model, tokenizer, texts, num_runs=3):\n",
    "    \"\"\"Mesure le temps d'inférence avec plusieurs runs\"\"\"\n",
    "    all_times = []\n",
    "\n",
    "    for _ in range(num_runs):\n",
    "        times = []\n",
    "        for text in texts:\n",
    "            start_time = time.time()\n",
    "\n",
    "            inputs = tokenizer(text, return_tensors=\"pt\", padding=True, truncation=True, max_length=512).to(device)\n",
    "            with torch.no_grad():\n",
    "                outputs = model(**inputs)\n",
    "\n",
    "            end_time = time.time()\n",
    "            times.append(end_time - start_time)\n",
    "\n",
    "            # Nettoyage mémoire\n",
    "            torch.cuda.empty_cache() if torch.cuda.is_available() else None\n",
    "\n",
    "        all_times.extend(times)\n",
    "\n",
    "    return all_times"
   ],
   "id": "e70c53c812de8602",
   "outputs": [],
   "execution_count": 36
  },
  {
   "metadata": {
    "ExecuteTime": {
     "end_time": "2025-06-12T13:52:44.922029Z",
     "start_time": "2025-06-12T13:52:44.918884Z"
    }
   },
   "cell_type": "code",
   "source": [
    "def get_model_size(model):\n",
    "    \"\"\"Calcule la taille du modèle en MB\"\"\"\n",
    "    param_size = sum(p.numel() * p.element_size() for p in model.parameters())\n",
    "    buffer_size = sum(b.numel() * b.element_size() for b in model.buffers())\n",
    "    return (param_size + buffer_size) / 1024**2"
   ],
   "id": "9487fb5174b97839",
   "outputs": [],
   "execution_count": 37
  },
  {
   "metadata": {
    "ExecuteTime": {
     "end_time": "2025-06-12T13:52:44.981879Z",
     "start_time": "2025-06-12T13:52:44.978835Z"
    }
   },
   "cell_type": "code",
   "source": [
    "def count_parameters(model):\n",
    "    \"\"\"Compte le nombre de paramètres\"\"\"\n",
    "    return sum(p.numel() for p in model.parameters())"
   ],
   "id": "a0b1636cf4e1e0a4",
   "outputs": [],
   "execution_count": 38
  },
  {
   "metadata": {
    "ExecuteTime": {
     "end_time": "2025-06-12T13:52:45.042110Z",
     "start_time": "2025-06-12T13:52:45.038978Z"
    }
   },
   "cell_type": "code",
   "source": [
    "def get_memory_usage():\n",
    "    \"\"\"Obtient l'utilisation mémoire actuelle\"\"\"\n",
    "    if torch.cuda.is_available():\n",
    "        return torch.cuda.memory_allocated() / 1024**2  # MB\n",
    "    else:\n",
    "        return psutil.Process().memory_info().rss / 1024**2  # MB"
   ],
   "id": "2c699016ab24b654",
   "outputs": [],
   "execution_count": 39
  },
  {
   "metadata": {
    "ExecuteTime": {
     "end_time": "2025-06-12T13:52:45.092903Z",
     "start_time": "2025-06-12T13:52:45.088861Z"
    }
   },
   "cell_type": "code",
   "source": [
    "def evaluate_model(model, tokenizer, texts, labels):\n",
    "    \"\"\"Évalue les performances du modèle\"\"\"\n",
    "    predictions = []\n",
    "    confidences = []\n",
    "\n",
    "    for text in texts:\n",
    "        inputs = tokenizer(text, return_tensors=\"pt\", padding=True, truncation=True, max_length=512).to(device)\n",
    "        with torch.no_grad():\n",
    "            outputs = model(**inputs)\n",
    "            probs = torch.softmax(outputs.logits, dim=-1)\n",
    "            prediction = torch.argmax(outputs.logits, dim=-1).item()\n",
    "            confidence = torch.max(probs).item()\n",
    "\n",
    "            predictions.append(prediction)\n",
    "            confidences.append(confidence)\n",
    "\n",
    "    accuracy = accuracy_score(labels, predictions)\n",
    "    f1 = f1_score(labels, predictions)\n",
    "    precision = precision_score(labels, predictions)\n",
    "    recall = recall_score(labels, predictions)\n",
    "    avg_confidence = np.mean(confidences)\n",
    "\n",
    "    return {\n",
    "        'accuracy': accuracy,\n",
    "        'f1': f1,\n",
    "        'precision': precision,\n",
    "        'recall': recall,\n",
    "        'avg_confidence': avg_confidence,\n",
    "        'predictions': predictions\n",
    "    }"
   ],
   "id": "9f2e0e24ba1515fc",
   "outputs": [],
   "execution_count": 40
  },
  {
   "metadata": {
    "ExecuteTime": {
     "end_time": "2025-06-12T13:52:46.321978Z",
     "start_time": "2025-06-12T13:52:45.138914Z"
    }
   },
   "cell_type": "code",
   "source": [
    "print(\"\\n=== ÉVALUATION DISTILBERT-BASE-UNCASED ===\")\n",
    "\n",
    "# Métriques de base\n",
    "distilbert_params = count_parameters(distilbert_model)\n",
    "distilbert_size = get_model_size(distilbert_model)\n",
    "\n",
    "# Performance sur textes courts\n",
    "distilbert_times_short = measure_inference_time(distilbert_model, distilbert_tokenizer, test_texts)\n",
    "distilbert_results = evaluate_model(distilbert_model, distilbert_tokenizer, test_texts, test_labels)\n",
    "\n",
    "# Performance sur textes longs\n",
    "distilbert_times_long = measure_inference_time(distilbert_model, distilbert_tokenizer, long_texts)\n",
    "\n",
    "print(f\"DistilBERT - Nombre de paramètres: {distilbert_params:,}\")\n",
    "print(f\"DistilBERT - Taille du modèle: {distilbert_size:.2f} MB\")\n",
    "print(f\"DistilBERT - Temps moyen (textes courts): {np.mean(distilbert_times_short):.4f}s\")\n",
    "print(f\"DistilBERT - Temps moyen (textes longs): {np.mean(distilbert_times_long):.4f}s\")\n",
    "print(f\"DistilBERT - Accuracy: {distilbert_results['accuracy']:.3f}\")\n",
    "print(f\"DistilBERT - F1-Score: {distilbert_results['f1']:.3f}\")\n",
    "print(f\"DistilBERT - Confiance moyenne: {distilbert_results['avg_confidence']:.3f}\")"
   ],
   "id": "337bb50fb4642acd",
   "outputs": [
    {
     "name": "stdout",
     "output_type": "stream",
     "text": [
      "\n",
      "=== ÉVALUATION DISTILBERT-BASE-UNCASED ===\n",
      "DistilBERT - Nombre de paramètres: 66,955,010\n",
      "DistilBERT - Taille du modèle: 255.42 MB\n",
      "DistilBERT - Temps moyen (textes courts): 0.0127s\n",
      "DistilBERT - Temps moyen (textes longs): 0.0449s\n",
      "DistilBERT - Accuracy: 0.533\n",
      "DistilBERT - F1-Score: 0.696\n",
      "DistilBERT - Confiance moyenne: 0.542\n"
     ]
    }
   ],
   "execution_count": 41
  },
  {
   "metadata": {
    "ExecuteTime": {
     "end_time": "2025-06-12T13:52:48.804120Z",
     "start_time": "2025-06-12T13:52:46.342831Z"
    }
   },
   "cell_type": "code",
   "source": [
    "print(\"\\n=== ÉVALUATION BERT-BASE-UNCASED ===\")\n",
    "\n",
    "# Métriques de base\n",
    "bert_params = count_parameters(bert_model)\n",
    "bert_size = get_model_size(bert_model)\n",
    "\n",
    "# Performance sur textes courts\n",
    "bert_times_short = measure_inference_time(bert_model, bert_tokenizer, test_texts)\n",
    "bert_results = evaluate_model(bert_model, bert_tokenizer, test_texts, test_labels)\n",
    "\n",
    "# Performance sur textes longs\n",
    "bert_times_long = measure_inference_time(bert_model, bert_tokenizer, long_texts)\n",
    "\n",
    "print(f\"BERT - Nombre de paramètres: {bert_params:,}\")\n",
    "print(f\"BERT - Taille du modèle: {bert_size:.2f} MB\")\n",
    "print(f\"BERT - Temps moyen (textes courts): {np.mean(bert_times_short):.4f}s\")\n",
    "print(f\"BERT - Temps moyen (textes longs): {np.mean(bert_times_long):.4f}s\")\n",
    "print(f\"BERT - Accuracy: {bert_results['accuracy']:.3f}\")\n",
    "print(f\"BERT - F1-Score: {bert_results['f1']:.3f}\")\n",
    "print(f\"BERT - Confiance moyenne: {bert_results['avg_confidence']:.3f}\")"
   ],
   "id": "77157d6af52abb04",
   "outputs": [
    {
     "name": "stdout",
     "output_type": "stream",
     "text": [
      "\n",
      "=== ÉVALUATION BERT-BASE-UNCASED ===\n"
     ]
    },
    {
     "name": "stderr",
     "output_type": "stream",
     "text": [
      "/home/arthur/Deep Learning/tp_transformers/.venv/Scripts/lib/python3.10/site-packages/sklearn/metrics/_classification.py:1706: UndefinedMetricWarning: Precision is ill-defined and being set to 0.0 due to no predicted samples. Use `zero_division` parameter to control this behavior.\n",
      "  _warn_prf(average, modifier, f\"{metric.capitalize()} is\", result.shape[0])\n"
     ]
    },
    {
     "name": "stdout",
     "output_type": "stream",
     "text": [
      "BERT - Nombre de paramètres: 109,483,778\n",
      "BERT - Taille du modèle: 417.66 MB\n",
      "BERT - Temps moyen (textes courts): 0.0273s\n",
      "BERT - Temps moyen (textes longs): 0.0892s\n",
      "BERT - Accuracy: 0.467\n",
      "BERT - F1-Score: 0.000\n",
      "BERT - Confiance moyenne: 0.631\n"
     ]
    }
   ],
   "execution_count": 42
  },
  {
   "metadata": {
    "ExecuteTime": {
     "end_time": "2025-06-12T13:52:48.830784Z",
     "start_time": "2025-06-12T13:52:48.824769Z"
    }
   },
   "cell_type": "code",
   "source": [
    "comparison_data = {\n",
    "    'Modèle': ['DistilBERT-base-uncased', 'BERT-base-uncased'],\n",
    "    'Paramètres (M)': [distilbert_params/1e6, bert_params/1e6],\n",
    "    'Taille (MB)': [distilbert_size, bert_size],\n",
    "    'Temps inf. courts (s)': [np.mean(distilbert_times_short), np.mean(bert_times_short)],\n",
    "    'Temps inf. longs (s)': [np.mean(distilbert_times_long), np.mean(bert_times_long)],\n",
    "    'Accuracy': [distilbert_results['accuracy'], bert_results['accuracy']],\n",
    "    'F1-Score': [distilbert_results['f1'], bert_results['f1']],\n",
    "    'Precision': [distilbert_results['precision'], bert_results['precision']],\n",
    "    'Recall': [distilbert_results['recall'], bert_results['recall']],\n",
    "    'Confiance moy.': [distilbert_results['avg_confidence'], bert_results['avg_confidence']]\n",
    "}\n",
    "\n",
    "df_comparison = pd.DataFrame(comparison_data)\n",
    "print(\"\\n=== TABLEAU COMPARATIF ===\")\n",
    "print(df_comparison.round(4))"
   ],
   "id": "e2973dc9fbeead9b",
   "outputs": [
    {
     "name": "stdout",
     "output_type": "stream",
     "text": [
      "\n",
      "=== TABLEAU COMPARATIF ===\n",
      "                    Modèle  Paramètres (M)  Taille (MB)  \\\n",
      "0  DistilBERT-base-uncased         66.9550     255.4170   \n",
      "1        BERT-base-uncased        109.4838     417.6553   \n",
      "\n",
      "   Temps inf. courts (s)  Temps inf. longs (s)  Accuracy  F1-Score  Precision  \\\n",
      "0                 0.0127                0.0449    0.5333    0.6957     0.5333   \n",
      "1                 0.0273                0.0892    0.4667    0.0000     0.0000   \n",
      "\n",
      "   Recall  Confiance moy.  \n",
      "0     1.0          0.5419  \n",
      "1     0.0          0.6314  \n"
     ]
    }
   ],
   "execution_count": 43
  },
  {
   "metadata": {
    "ExecuteTime": {
     "end_time": "2025-06-12T13:52:48.874981Z",
     "start_time": "2025-06-12T13:52:48.870605Z"
    }
   },
   "cell_type": "code",
   "source": [
    "# Ratio efficacité (performance/temps)\n",
    "distilbert_efficiency = distilbert_results['f1'] / np.mean(distilbert_times_short)\n",
    "bert_efficiency = bert_results['f1'] / np.mean(bert_times_short)\n",
    "\n",
    "# Ratio compression (performance/taille)\n",
    "distilbert_compression = distilbert_results['f1'] / distilbert_size\n",
    "bert_compression = bert_results['f1'] / bert_size\n",
    "\n",
    "print(f\"\\n=== RATIOS PERFORMANCE ===\")\n",
    "print(f\"DistilBERT - Efficacité (F1/temps): {distilbert_efficiency:.2f}\")\n",
    "print(f\"BERT - Efficacité (F1/temps): {bert_efficiency:.2f}\")\n",
    "print(f\"DistilBERT - Compression (F1/taille): {distilbert_compression:.4f}\")\n",
    "print(f\"BERT - Compression (F1/taille): {bert_compression:.4f}\")"
   ],
   "id": "218ad417dd923246",
   "outputs": [
    {
     "name": "stdout",
     "output_type": "stream",
     "text": [
      "\n",
      "=== RATIOS PERFORMANCE ===\n",
      "DistilBERT - Efficacité (F1/temps): 54.88\n",
      "BERT - Efficacité (F1/temps): 0.00\n",
      "DistilBERT - Compression (F1/taille): 0.0027\n",
      "BERT - Compression (F1/taille): 0.0000\n"
     ]
    }
   ],
   "execution_count": 44
  },
  {
   "metadata": {
    "ExecuteTime": {
     "end_time": "2025-06-12T13:52:49.214541Z",
     "start_time": "2025-06-12T13:52:48.923762Z"
    }
   },
   "cell_type": "code",
   "source": [
    "# Configuration des graphiques\n",
    "plt.style.use('seaborn-v0_8')\n",
    "fig, axes = plt.subplots(2, 2, figsize=(15, 12))\n",
    "\n",
    "# 1. Comparaison des tailles\n",
    "models = ['DistilBERT', 'BERT']\n",
    "sizes = [distilbert_size, bert_size]\n",
    "params = [distilbert_params/1e6, bert_params/1e6]\n",
    "\n",
    "axes[0,0].bar(models, sizes, color=['lightblue', 'lightcoral'])\n",
    "axes[0,0].set_title('Taille des modèles (MB)')\n",
    "axes[0,0].set_ylabel('Taille (MB)')\n",
    "for i, v in enumerate(sizes):\n",
    "    axes[0,0].text(i, v + 1, f'{v:.1f}', ha='center', va='bottom')\n",
    "\n",
    "# 2. Comparaison du nombre de paramètres\n",
    "axes[0,1].bar(models, params, color=['lightgreen', 'orange'])\n",
    "axes[0,1].set_title('Nombre de paramètres (millions)')\n",
    "axes[0,1].set_ylabel('Paramètres (M)')\n",
    "for i, v in enumerate(params):\n",
    "    axes[0,1].text(i, v + 1, f'{v:.1f}M', ha='center', va='bottom')\n",
    "\n",
    "# 3. Temps d'inférence\n",
    "times_short = [np.mean(distilbert_times_short), np.mean(bert_times_short)]\n",
    "times_long = [np.mean(distilbert_times_long), np.mean(bert_times_long)]\n",
    "\n",
    "x = np.arange(len(models))\n",
    "width = 0.35\n",
    "\n",
    "axes[1,0].bar(x - width/2, times_short, width, label='Textes courts', color='skyblue')\n",
    "axes[1,0].bar(x + width/2, times_long, width, label='Textes longs', color='lightcoral')\n",
    "axes[1,0].set_title('Temps d\\'inférence (secondes)')\n",
    "axes[1,0].set_ylabel('Temps (s)')\n",
    "axes[1,0].set_xticks(x)\n",
    "axes[1,0].set_xticklabels(models)\n",
    "axes[1,0].legend()\n",
    "\n",
    "# 4. Métriques de performance\n",
    "metrics = ['Accuracy', 'F1-Score', 'Precision', 'Recall']\n",
    "distilbert_metrics = [distilbert_results['accuracy'], distilbert_results['f1'],\n",
    "                     distilbert_results['precision'], distilbert_results['recall']]\n",
    "bert_metrics = [bert_results['accuracy'], bert_results['f1'],\n",
    "               bert_results['precision'], bert_results['recall']]\n",
    "\n",
    "x = np.arange(len(metrics))\n",
    "axes[1,1].bar(x - width/2, distilbert_metrics, width, label='DistilBERT', color='lightblue')\n",
    "axes[1,1].bar(x + width/2, bert_metrics, width, label='BERT', color='lightcoral')\n",
    "axes[1,1].set_title('Métriques de performance')\n",
    "axes[1,1].set_ylabel('Score')\n",
    "axes[1,1].set_xticks(x)\n",
    "axes[1,1].set_xticklabels(metrics)\n",
    "axes[1,1].legend()\n",
    "axes[1,1].set_ylim(0, 1.1)\n",
    "\n",
    "plt.tight_layout()\n",
    "plt.show()"
   ],
   "id": "4ecef46d877cb634",
   "outputs": [
    {
     "data": {
      "text/plain": [
       "<Figure size 1500x1200 with 4 Axes>"
      ],
      "image/png": "[encoded data removed]"
     },
     "metadata": {},
     "output_type": "display_data"
    }
   ],
   "execution_count": 45
  },
  {
   "metadata": {
    "ExecuteTime": {
     "end_time": "2025-06-12T13:52:49.239279Z",
     "start_time": "2025-06-12T13:52:49.234868Z"
    }
   },
   "cell_type": "code",
   "source": [
    "print(\"\\n=== ANALYSE DES TRADE-OFFS ===\")\n",
    "print(f\"Réduction de taille: {((bert_size - distilbert_size) / bert_size * 100):.1f}%\")\n",
    "print(f\"Réduction de paramètres: {((bert_params - distilbert_params) / bert_params * 100):.1f}%\")\n",
    "print(f\"Gain de vitesse (textes courts): {(np.mean(bert_times_short) / np.mean(distilbert_times_short)):.2f}x\")\n",
    "print(f\"Gain de vitesse (textes longs): {(np.mean(bert_times_long) / np.mean(distilbert_times_long)):.2f}x\")\n",
    "print(f\"Différence de performance F1: {(bert_results['f1'] - distilbert_results['f1']):.3f}\")\n",
    "\n",
    "# Forces et faiblesses\n",
    "print(\"\\n=== FORCES ET FAIBLESSES ===\")\n",
    "print(\"\\nDistilBERT:\")\n",
    "print(\"+ Plus rapide et léger\")\n",
    "print(\"+ Moins de mémoire requise\")\n",
    "print(\"+ Bon pour déploiement mobile/edge\")\n",
    "if distilbert_results['f1'] >= bert_results['f1']:\n",
    "    print(\"+ Performance équivalente ou supérieure\")\n",
    "else:\n",
    "    print(\"- Performance légèrement inférieure\")\n",
    "\n",
    "print(\"\\nBERT:\")\n",
    "print(\"+ Modèle de référence, bien testé\")\n",
    "print(\"+ Potentiellement plus stable\")\n",
    "if bert_results['f1'] > distilbert_results['f1']:\n",
    "    print(\"+ Meilleure performance\")\n",
    "else:\n",
    "    print(\"- Performance équivalente\")\n",
    "print(\"- Plus lent et plus lourd\")\n",
    "print(\"- Plus de ressources requises\")"
   ],
   "id": "9a58656ec7aaf7ae",
   "outputs": [
    {
     "name": "stdout",
     "output_type": "stream",
     "text": [
      "\n",
      "=== ANALYSE DES TRADE-OFFS ===\n",
      "Réduction de taille: 38.8%\n",
      "Réduction de paramètres: 38.8%\n",
      "Gain de vitesse (textes courts): 2.15x\n",
      "Gain de vitesse (textes longs): 1.99x\n",
      "Différence de performance F1: -0.696\n",
      "\n",
      "=== FORCES ET FAIBLESSES ===\n",
      "\n",
      "DistilBERT:\n",
      "+ Plus rapide et léger\n",
      "+ Moins de mémoire requise\n",
      "+ Bon pour déploiement mobile/edge\n",
      "+ Performance équivalente ou supérieure\n",
      "\n",
      "BERT:\n",
      "+ Modèle de référence, bien testé\n",
      "+ Potentiellement plus stable\n",
      "- Performance équivalente\n",
      "- Plus lent et plus lourd\n",
      "- Plus de ressources requises\n"
     ]
    }
   ],
   "execution_count": 46
  },
  {
   "metadata": {},
   "cell_type": "markdown",
   "source": "## Modèles de génération de texte",
   "id": "2bdb4865af39de8c"
  },
  {
   "metadata": {},
   "cell_type": "code",
   "outputs": [],
   "execution_count": null,
   "source": "",
   "id": "2dc4d0bb773a8137"
  }
 ],
 "metadata": {
  "kernelspec": {
   "name": "python3",
   "language": "python",
   "display_name": "Python 3 (ipykernel)"
  }
 },
 "nbformat": 5,
 "nbformat_minor": 9
}
