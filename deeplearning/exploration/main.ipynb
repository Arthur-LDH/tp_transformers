{
 "cells": [
  {
   "metadata": {},
   "cell_type": "markdown",
   "source": "# Partie 3 : Analyse comparative et optimisation",
   "id": "fa62cb8a15db7000"
  },
  {
   "metadata": {},
   "cell_type": "markdown",
   "source": "## A - Evaluation multi-modèles",
   "id": "2601a407de2e32f4"
  },
  {
   "metadata": {
    "ExecuteTime": {
     "end_time": "2025-06-13T07:37:38.811005Z",
     "start_time": "2025-06-13T07:37:31.928188Z"
    }
   },
   "cell_type": "code",
   "source": [
    "import torch\n",
    "import pandas as pd\n",
    "import numpy as np\n",
    "import matplotlib.pyplot as plt\n",
    "import math\n",
    "from transformers import (\n",
    "    AutoTokenizer, AutoModelForSequenceClassification, AutoModelForCausalLM, T5ForConditionalGeneration\n",
    ")\n",
    "import time\n",
    "import psutil\n",
    "from sklearn.metrics import accuracy_score, f1_score, precision_score, recall_score"
   ],
   "id": "b7de88897b4b10ce",
   "outputs": [
    {
     "name": "stderr",
     "output_type": "stream",
     "text": [
      "/home/arthur/Deep Learning/tp_transformers/.venv/Scripts/lib/python3.10/site-packages/tqdm/auto.py:21: TqdmWarning: IProgress not found. Please update jupyter and ipywidgets. See https://ipywidgets.readthedocs.io/en/stable/user_install.html\n",
      "  from .autonotebook import tqdm as notebook_tqdm\n"
     ]
    }
   ],
   "execution_count": 2
  },
  {
   "metadata": {
    "ExecuteTime": {
     "end_time": "2025-06-13T07:37:38.905383Z",
     "start_time": "2025-06-13T07:37:38.902253Z"
    }
   },
   "cell_type": "code",
   "source": [
    "device = torch.device('cuda' if torch.cuda.is_available() else 'cpu')\n",
    "print(f\"Device utilisé: {device}\")"
   ],
   "id": "86fea013e4c304ee",
   "outputs": [
    {
     "name": "stdout",
     "output_type": "stream",
     "text": [
      "Device utilisé: cpu\n"
     ]
    }
   ],
   "execution_count": 3
  },
  {
   "metadata": {},
   "cell_type": "markdown",
   "source": "## Modèles de classification",
   "id": "11b9a3035427e3a4"
  },
  {
   "metadata": {
    "ExecuteTime": {
     "end_time": "2025-06-13T07:37:39.623188Z",
     "start_time": "2025-06-13T07:37:38.953868Z"
    }
   },
   "cell_type": "code",
   "source": [
    "# DistilBERT-base-uncased\n",
    "distilbert_tokenizer = AutoTokenizer.from_pretrained(\"distilbert-base-uncased\")\n",
    "distilbert_model = AutoModelForSequenceClassification.from_pretrained(\"distilbert-base-uncased\", num_labels=2).to(device)"
   ],
   "id": "33a04f1df04292e3",
   "outputs": [
    {
     "name": "stderr",
     "output_type": "stream",
     "text": [
      "Some weights of DistilBertForSequenceClassification were not initialized from the model checkpoint at distilbert-base-uncased and are newly initialized: ['classifier.bias', 'classifier.weight', 'pre_classifier.bias', 'pre_classifier.weight']\n",
      "You should probably TRAIN this model on a down-stream task to be able to use it for predictions and inference.\n"
     ]
    }
   ],
   "execution_count": 4
  },
  {
   "metadata": {
    "ExecuteTime": {
     "end_time": "2025-06-13T07:37:40.180472Z",
     "start_time": "2025-06-13T07:37:39.633637Z"
    }
   },
   "cell_type": "code",
   "source": [
    "bert_tokenizer = AutoTokenizer.from_pretrained(\"bert-base-uncased\")\n",
    "bert_model = AutoModelForSequenceClassification.from_pretrained(\"bert-base-uncased\", num_labels=2).to(device)"
   ],
   "id": "19b34aa55ec664d0",
   "outputs": [
    {
     "name": "stderr",
     "output_type": "stream",
     "text": [
      "Some weights of BertForSequenceClassification were not initialized from the model checkpoint at bert-base-uncased and are newly initialized: ['classifier.bias', 'classifier.weight']\n",
      "You should probably TRAIN this model on a down-stream task to be able to use it for predictions and inference.\n"
     ]
    }
   ],
   "execution_count": 5
  },
  {
   "metadata": {
    "ExecuteTime": {
     "end_time": "2025-06-13T07:37:40.197151Z",
     "start_time": "2025-06-13T07:37:40.194095Z"
    }
   },
   "cell_type": "code",
   "source": [
    "test_texts = [\n",
    "    \"I love this product, it's amazing and works perfectly!\",\n",
    "    \"This is terrible, worst experience ever, completely disappointed\",\n",
    "    \"Great service and excellent quality, highly recommend\",\n",
    "    \"Disappointing results, not recommended, poor performance\",\n",
    "    \"Outstanding performance, very satisfied with the purchase\",\n",
    "    \"Poor quality, waste of money, regret buying this\",\n",
    "    \"Excellent customer support, very helpful staff\",\n",
    "    \"Very frustrating experience, technical issues everywhere\",\n",
    "    \"Best purchase I've ever made, exceeded expectations\",\n",
    "    \"Completely useless product, doesn't work as advertised\",\n",
    "    \"Good value for money, decent quality overall\",\n",
    "    \"Horrible customer service, unhelpful and rude staff\",\n",
    "    \"Amazing features, easy to use, great design\",\n",
    "    \"Faulty product, broke after one week of use\",\n",
    "    \"Impressive results, better than expected quality\"\n",
    "]\n",
    "\n",
    "test_labels = [1, 0, 1, 0, 1, 0, 1, 0, 1, 0, 1, 0, 1, 0, 1]"
   ],
   "id": "5cb4152890dd5d79",
   "outputs": [],
   "execution_count": 6
  },
  {
   "metadata": {
    "ExecuteTime": {
     "end_time": "2025-06-13T07:37:40.252180Z",
     "start_time": "2025-06-13T07:37:40.249684Z"
    }
   },
   "cell_type": "code",
   "source": [
    "long_texts = [\n",
    "    \"This is a longer text to test the performance of both models on extended sequences. \" * 10,\n",
    "    \"Another extended text sample that contains multiple sentences and should provide insights into model efficiency. \" * 10,\n",
    "    \"Testing computational efficiency with longer input sequences to understand the trade-offs between model size and performance. \" * 10\n",
    "]"
   ],
   "id": "ff79d26c1013ed00",
   "outputs": [],
   "execution_count": 7
  },
  {
   "metadata": {
    "ExecuteTime": {
     "end_time": "2025-06-13T07:37:40.302469Z",
     "start_time": "2025-06-13T07:37:40.298791Z"
    }
   },
   "cell_type": "code",
   "source": [
    "def measure_inference_time(model, tokenizer, texts, num_runs=3):\n",
    "    \"\"\"Mesure le temps d'inférence avec plusieurs runs\"\"\"\n",
    "    all_times = []\n",
    "\n",
    "    for _ in range(num_runs):\n",
    "        times = []\n",
    "        for text in texts:\n",
    "            start_time = time.time()\n",
    "\n",
    "            inputs = tokenizer(text, return_tensors=\"pt\", padding=True, truncation=True, max_length=512).to(device)\n",
    "            with torch.no_grad():\n",
    "                outputs = model(**inputs)\n",
    "\n",
    "            end_time = time.time()\n",
    "            times.append(end_time - start_time)\n",
    "\n",
    "            # Nettoyage mémoire\n",
    "            torch.cuda.empty_cache() if torch.cuda.is_available() else None\n",
    "\n",
    "        all_times.extend(times)\n",
    "\n",
    "    return all_times"
   ],
   "id": "e70c53c812de8602",
   "outputs": [],
   "execution_count": 8
  },
  {
   "metadata": {
    "ExecuteTime": {
     "end_time": "2025-06-13T07:37:40.350600Z",
     "start_time": "2025-06-13T07:37:40.347670Z"
    }
   },
   "cell_type": "code",
   "source": [
    "def get_model_size(model):\n",
    "    \"\"\"Calcule la taille du modèle en MB\"\"\"\n",
    "    param_size = sum(p.numel() * p.element_size() for p in model.parameters())\n",
    "    buffer_size = sum(b.numel() * b.element_size() for b in model.buffers())\n",
    "    return (param_size + buffer_size) / 1024**2"
   ],
   "id": "9487fb5174b97839",
   "outputs": [],
   "execution_count": 9
  },
  {
   "metadata": {
    "ExecuteTime": {
     "end_time": "2025-06-13T07:37:40.400589Z",
     "start_time": "2025-06-13T07:37:40.397841Z"
    }
   },
   "cell_type": "code",
   "source": [
    "def count_parameters(model):\n",
    "    \"\"\"Compte le nombre de paramètres\"\"\"\n",
    "    return sum(p.numel() for p in model.parameters())"
   ],
   "id": "a0b1636cf4e1e0a4",
   "outputs": [],
   "execution_count": 10
  },
  {
   "metadata": {
    "ExecuteTime": {
     "end_time": "2025-06-13T07:37:40.470879Z",
     "start_time": "2025-06-13T07:37:40.467436Z"
    }
   },
   "cell_type": "code",
   "source": [
    "def get_memory_usage():\n",
    "    \"\"\"Obtient l'utilisation mémoire actuelle\"\"\"\n",
    "    if torch.cuda.is_available():\n",
    "        return torch.cuda.memory_allocated() / 1024**2  # MB\n",
    "    else:\n",
    "        return psutil.Process().memory_info().rss / 1024**2  # MB"
   ],
   "id": "2c699016ab24b654",
   "outputs": [],
   "execution_count": 11
  },
  {
   "metadata": {
    "ExecuteTime": {
     "end_time": "2025-06-13T07:37:40.526931Z",
     "start_time": "2025-06-13T07:37:40.522013Z"
    }
   },
   "cell_type": "code",
   "source": [
    "def evaluate_model(model, tokenizer, texts, labels):\n",
    "    \"\"\"Évalue les performances du modèle\"\"\"\n",
    "    predictions = []\n",
    "    confidences = []\n",
    "\n",
    "    for text in texts:\n",
    "        inputs = tokenizer(text, return_tensors=\"pt\", padding=True, truncation=True, max_length=512).to(device)\n",
    "        with torch.no_grad():\n",
    "            outputs = model(**inputs)\n",
    "            probs = torch.softmax(outputs.logits, dim=-1)\n",
    "            prediction = torch.argmax(outputs.logits, dim=-1).item()\n",
    "            confidence = torch.max(probs).item()\n",
    "\n",
    "            predictions.append(prediction)\n",
    "            confidences.append(confidence)\n",
    "\n",
    "    accuracy = accuracy_score(labels, predictions)\n",
    "    f1 = f1_score(labels, predictions)\n",
    "    precision = precision_score(labels, predictions)\n",
    "    recall = recall_score(labels, predictions)\n",
    "    avg_confidence = np.mean(confidences)\n",
    "\n",
    "    return {\n",
    "        'accuracy': accuracy,\n",
    "        'f1': f1,\n",
    "        'precision': precision,\n",
    "        'recall': recall,\n",
    "        'avg_confidence': avg_confidence,\n",
    "        'predictions': predictions\n",
    "    }"
   ],
   "id": "9f2e0e24ba1515fc",
   "outputs": [],
   "execution_count": 12
  },
  {
   "metadata": {
    "ExecuteTime": {
     "end_time": "2025-06-13T07:37:43.306118Z",
     "start_time": "2025-06-13T07:37:40.580007Z"
    }
   },
   "cell_type": "code",
   "source": [
    "print(\"\\n=== ÉVALUATION DISTILBERT-BASE-UNCASED ===\")\n",
    "\n",
    "# Métriques de base\n",
    "distilbert_params = count_parameters(distilbert_model)\n",
    "distilbert_size = get_model_size(distilbert_model)\n",
    "\n",
    "# Performance sur textes courts\n",
    "distilbert_times_short = measure_inference_time(distilbert_model, distilbert_tokenizer, test_texts)\n",
    "distilbert_results = evaluate_model(distilbert_model, distilbert_tokenizer, test_texts, test_labels)\n",
    "\n",
    "# Performance sur textes longs\n",
    "distilbert_times_long = measure_inference_time(distilbert_model, distilbert_tokenizer, long_texts)\n",
    "\n",
    "print(f\"DistilBERT - Nombre de paramètres: {distilbert_params:,}\")\n",
    "print(f\"DistilBERT - Taille du modèle: {distilbert_size:.2f} MB\")\n",
    "print(f\"DistilBERT - Temps moyen (textes courts): {np.mean(distilbert_times_short):.4f}s\")\n",
    "print(f\"DistilBERT - Temps moyen (textes longs): {np.mean(distilbert_times_long):.4f}s\")\n",
    "print(f\"DistilBERT - Accuracy: {distilbert_results['accuracy']:.3f}\")\n",
    "print(f\"DistilBERT - F1-Score: {distilbert_results['f1']:.3f}\")\n",
    "print(f\"DistilBERT - Confiance moyenne: {distilbert_results['avg_confidence']:.3f}\")"
   ],
   "id": "337bb50fb4642acd",
   "outputs": [
    {
     "name": "stdout",
     "output_type": "stream",
     "text": [
      "\n",
      "=== ÉVALUATION DISTILBERT-BASE-UNCASED ===\n"
     ]
    },
    {
     "name": "stderr",
     "output_type": "stream",
     "text": [
      "/home/arthur/Deep Learning/tp_transformers/.venv/Scripts/lib/python3.10/site-packages/sklearn/metrics/_classification.py:1706: UndefinedMetricWarning: Precision is ill-defined and being set to 0.0 due to no predicted samples. Use `zero_division` parameter to control this behavior.\n",
      "  _warn_prf(average, modifier, f\"{metric.capitalize()} is\", result.shape[0])\n"
     ]
    },
    {
     "name": "stdout",
     "output_type": "stream",
     "text": [
      "DistilBERT - Nombre de paramètres: 66,955,010\n",
      "DistilBERT - Taille du modèle: 255.42 MB\n",
      "DistilBERT - Temps moyen (textes courts): 0.0413s\n",
      "DistilBERT - Temps moyen (textes longs): 0.0674s\n",
      "DistilBERT - Accuracy: 0.467\n",
      "DistilBERT - F1-Score: 0.000\n",
      "DistilBERT - Confiance moyenne: 0.546\n"
     ]
    }
   ],
   "execution_count": 13
  },
  {
   "metadata": {
    "ExecuteTime": {
     "end_time": "2025-06-13T07:37:47.970145Z",
     "start_time": "2025-06-13T07:37:43.320711Z"
    }
   },
   "cell_type": "code",
   "source": [
    "print(\"\\n=== ÉVALUATION BERT-BASE-UNCASED ===\")\n",
    "\n",
    "# Métriques de base\n",
    "bert_params = count_parameters(bert_model)\n",
    "bert_size = get_model_size(bert_model)\n",
    "\n",
    "# Performance sur textes courts\n",
    "bert_times_short = measure_inference_time(bert_model, bert_tokenizer, test_texts)\n",
    "bert_results = evaluate_model(bert_model, bert_tokenizer, test_texts, test_labels)\n",
    "\n",
    "# Performance sur textes longs\n",
    "bert_times_long = measure_inference_time(bert_model, bert_tokenizer, long_texts)\n",
    "\n",
    "print(f\"BERT - Nombre de paramètres: {bert_params:,}\")\n",
    "print(f\"BERT - Taille du modèle: {bert_size:.2f} MB\")\n",
    "print(f\"BERT - Temps moyen (textes courts): {np.mean(bert_times_short):.4f}s\")\n",
    "print(f\"BERT - Temps moyen (textes longs): {np.mean(bert_times_long):.4f}s\")\n",
    "print(f\"BERT - Accuracy: {bert_results['accuracy']:.3f}\")\n",
    "print(f\"BERT - F1-Score: {bert_results['f1']:.3f}\")\n",
    "print(f\"BERT - Confiance moyenne: {bert_results['avg_confidence']:.3f}\")"
   ],
   "id": "77157d6af52abb04",
   "outputs": [
    {
     "name": "stdout",
     "output_type": "stream",
     "text": [
      "\n",
      "=== ÉVALUATION BERT-BASE-UNCASED ===\n",
      "BERT - Nombre de paramètres: 109,483,778\n",
      "BERT - Taille du modèle: 417.66 MB\n",
      "BERT - Temps moyen (textes courts): 0.0769s\n",
      "BERT - Temps moyen (textes longs): 0.0878s\n",
      "BERT - Accuracy: 0.533\n",
      "BERT - F1-Score: 0.696\n",
      "BERT - Confiance moyenne: 0.669\n"
     ]
    }
   ],
   "execution_count": 14
  },
  {
   "metadata": {
    "ExecuteTime": {
     "end_time": "2025-06-13T07:37:47.990297Z",
     "start_time": "2025-06-13T07:37:47.983268Z"
    }
   },
   "cell_type": "code",
   "source": [
    "comparison_data = {\n",
    "    'Modèle': ['DistilBERT-base-uncased', 'BERT-base-uncased'],\n",
    "    'Paramètres (M)': [distilbert_params/1e6, bert_params/1e6],\n",
    "    'Taille (MB)': [distilbert_size, bert_size],\n",
    "    'Temps inf. courts (s)': [np.mean(distilbert_times_short), np.mean(bert_times_short)],\n",
    "    'Temps inf. longs (s)': [np.mean(distilbert_times_long), np.mean(bert_times_long)],\n",
    "    'Accuracy': [distilbert_results['accuracy'], bert_results['accuracy']],\n",
    "    'F1-Score': [distilbert_results['f1'], bert_results['f1']],\n",
    "    'Precision': [distilbert_results['precision'], bert_results['precision']],\n",
    "    'Recall': [distilbert_results['recall'], bert_results['recall']],\n",
    "    'Confiance moy.': [distilbert_results['avg_confidence'], bert_results['avg_confidence']]\n",
    "}\n",
    "\n",
    "df_comparison = pd.DataFrame(comparison_data)\n",
    "print(\"\\n=== TABLEAU COMPARATIF ===\")\n",
    "print(df_comparison.round(4))"
   ],
   "id": "e2973dc9fbeead9b",
   "outputs": [
    {
     "name": "stdout",
     "output_type": "stream",
     "text": [
      "\n",
      "=== TABLEAU COMPARATIF ===\n",
      "                    Modèle  Paramètres (M)  Taille (MB)  \\\n",
      "0  DistilBERT-base-uncased         66.9550     255.4170   \n",
      "1        BERT-base-uncased        109.4838     417.6553   \n",
      "\n",
      "   Temps inf. courts (s)  Temps inf. longs (s)  Accuracy  F1-Score  Precision  \\\n",
      "0                 0.0413                0.0674    0.4667    0.0000     0.0000   \n",
      "1                 0.0769                0.0878    0.5333    0.6957     0.5333   \n",
      "\n",
      "   Recall  Confiance moy.  \n",
      "0     0.0          0.5457  \n",
      "1     1.0          0.6686  \n"
     ]
    }
   ],
   "execution_count": 15
  },
  {
   "metadata": {
    "ExecuteTime": {
     "end_time": "2025-06-13T07:37:48.040136Z",
     "start_time": "2025-06-13T07:37:48.035721Z"
    }
   },
   "cell_type": "code",
   "source": [
    "# Ratio efficacité (performance/temps)\n",
    "distilbert_efficiency = distilbert_results['f1'] / np.mean(distilbert_times_short)\n",
    "bert_efficiency = bert_results['f1'] / np.mean(bert_times_short)\n",
    "\n",
    "# Ratio compression (performance/taille)\n",
    "distilbert_compression = distilbert_results['f1'] / distilbert_size\n",
    "bert_compression = bert_results['f1'] / bert_size\n",
    "\n",
    "print(f\"\\n=== RATIOS PERFORMANCE ===\")\n",
    "print(f\"DistilBERT - Efficacité (F1/temps): {distilbert_efficiency:.2f}\")\n",
    "print(f\"BERT - Efficacité (F1/temps): {bert_efficiency:.2f}\")\n",
    "print(f\"DistilBERT - Compression (F1/taille): {distilbert_compression:.4f}\")\n",
    "print(f\"BERT - Compression (F1/taille): {bert_compression:.4f}\")"
   ],
   "id": "218ad417dd923246",
   "outputs": [
    {
     "name": "stdout",
     "output_type": "stream",
     "text": [
      "\n",
      "=== RATIOS PERFORMANCE ===\n",
      "DistilBERT - Efficacité (F1/temps): 0.00\n",
      "BERT - Efficacité (F1/temps): 9.05\n",
      "DistilBERT - Compression (F1/taille): 0.0000\n",
      "BERT - Compression (F1/taille): 0.0017\n"
     ]
    }
   ],
   "execution_count": 16
  },
  {
   "metadata": {
    "ExecuteTime": {
     "end_time": "2025-06-13T07:37:48.476145Z",
     "start_time": "2025-06-13T07:37:48.091763Z"
    }
   },
   "cell_type": "code",
   "source": [
    "# Configuration des graphiques\n",
    "plt.style.use('seaborn-v0_8')\n",
    "fig, axes = plt.subplots(2, 2, figsize=(15, 12))\n",
    "\n",
    "# 1. Comparaison des tailles\n",
    "models = ['DistilBERT', 'BERT']\n",
    "sizes = [distilbert_size, bert_size]\n",
    "params = [distilbert_params/1e6, bert_params/1e6]\n",
    "\n",
    "axes[0,0].bar(models, sizes, color=['lightblue', 'lightcoral'])\n",
    "axes[0,0].set_title('Taille des modèles (MB)')\n",
    "axes[0,0].set_ylabel('Taille (MB)')\n",
    "for i, v in enumerate(sizes):\n",
    "    axes[0,0].text(i, v + 1, f'{v:.1f}', ha='center', va='bottom')\n",
    "\n",
    "# 2. Comparaison du nombre de paramètres\n",
    "axes[0,1].bar(models, params, color=['lightgreen', 'orange'])\n",
    "axes[0,1].set_title('Nombre de paramètres (millions)')\n",
    "axes[0,1].set_ylabel('Paramètres (M)')\n",
    "for i, v in enumerate(params):\n",
    "    axes[0,1].text(i, v + 1, f'{v:.1f}M', ha='center', va='bottom')\n",
    "\n",
    "# 3. Temps d'inférence\n",
    "times_short = [np.mean(distilbert_times_short), np.mean(bert_times_short)]\n",
    "times_long = [np.mean(distilbert_times_long), np.mean(bert_times_long)]\n",
    "\n",
    "x = np.arange(len(models))\n",
    "width = 0.35\n",
    "\n",
    "axes[1,0].bar(x - width/2, times_short, width, label='Textes courts', color='skyblue')\n",
    "axes[1,0].bar(x + width/2, times_long, width, label='Textes longs', color='lightcoral')\n",
    "axes[1,0].set_title('Temps d\\'inférence (secondes)')\n",
    "axes[1,0].set_ylabel('Temps (s)')\n",
    "axes[1,0].set_xticks(x)\n",
    "axes[1,0].set_xticklabels(models)\n",
    "axes[1,0].legend()\n",
    "\n",
    "# 4. Métriques de performance\n",
    "metrics = ['Accuracy', 'F1-Score', 'Precision', 'Recall']\n",
    "distilbert_metrics = [distilbert_results['accuracy'], distilbert_results['f1'],\n",
    "                     distilbert_results['precision'], distilbert_results['recall']]\n",
    "bert_metrics = [bert_results['accuracy'], bert_results['f1'],\n",
    "               bert_results['precision'], bert_results['recall']]\n",
    "\n",
    "x = np.arange(len(metrics))\n",
    "axes[1,1].bar(x - width/2, distilbert_metrics, width, label='DistilBERT', color='lightblue')\n",
    "axes[1,1].bar(x + width/2, bert_metrics, width, label='BERT', color='lightcoral')\n",
    "axes[1,1].set_title('Métriques de performance')\n",
    "axes[1,1].set_ylabel('Score')\n",
    "axes[1,1].set_xticks(x)\n",
    "axes[1,1].set_xticklabels(metrics)\n",
    "axes[1,1].legend()\n",
    "axes[1,1].set_ylim(0, 1.1)\n",
    "\n",
    "plt.tight_layout()\n",
    "plt.show()"
   ],
   "id": "4ecef46d877cb634",
   "outputs": [
    {
     "data": {
      "text/plain": [
       "<Figure size 1500x1200 with 4 Axes>"
      ],
      "image/png": "[encoded data removed]"
     },
     "metadata": {},
     "output_type": "display_data"
    }
   ],
   "execution_count": 17
  },
  {
   "metadata": {
    "ExecuteTime": {
     "end_time": "2025-06-13T07:37:48.498264Z",
     "start_time": "2025-06-13T07:37:48.493552Z"
    }
   },
   "cell_type": "code",
   "source": [
    "print(\"\\n=== ANALYSE DES TRADE-OFFS ===\")\n",
    "print(f\"Réduction de taille: {((bert_size - distilbert_size) / bert_size * 100):.1f}%\")\n",
    "print(f\"Réduction de paramètres: {((bert_params - distilbert_params) / bert_params * 100):.1f}%\")\n",
    "print(f\"Gain de vitesse (textes courts): {(np.mean(bert_times_short) / np.mean(distilbert_times_short)):.2f}x\")\n",
    "print(f\"Gain de vitesse (textes longs): {(np.mean(bert_times_long) / np.mean(distilbert_times_long)):.2f}x\")\n",
    "print(f\"Différence de performance F1: {(bert_results['f1'] - distilbert_results['f1']):.3f}\")\n",
    "\n",
    "# Forces et faiblesses\n",
    "print(\"\\n=== FORCES ET FAIBLESSES ===\")\n",
    "print(\"\\nDistilBERT:\")\n",
    "print(\"+ Plus rapide et léger\")\n",
    "print(\"+ Moins de mémoire requise\")\n",
    "print(\"+ Bon pour déploiement mobile/edge\")\n",
    "if distilbert_results['f1'] >= bert_results['f1']:\n",
    "    print(\"+ Performance équivalente ou supérieure\")\n",
    "else:\n",
    "    print(\"- Performance légèrement inférieure\")\n",
    "\n",
    "print(\"\\nBERT:\")\n",
    "print(\"+ Modèle de référence, bien testé\")\n",
    "print(\"+ Potentiellement plus stable\")\n",
    "if bert_results['f1'] > distilbert_results['f1']:\n",
    "    print(\"+ Meilleure performance\")\n",
    "else:\n",
    "    print(\"- Performance équivalente\")\n",
    "print(\"- Plus lent et plus lourd\")\n",
    "print(\"- Plus de ressources requises\")"
   ],
   "id": "9a58656ec7aaf7ae",
   "outputs": [
    {
     "name": "stdout",
     "output_type": "stream",
     "text": [
      "\n",
      "=== ANALYSE DES TRADE-OFFS ===\n",
      "Réduction de taille: 38.8%\n",
      "Réduction de paramètres: 38.8%\n",
      "Gain de vitesse (textes courts): 1.86x\n",
      "Gain de vitesse (textes longs): 1.30x\n",
      "Différence de performance F1: 0.696\n",
      "\n",
      "=== FORCES ET FAIBLESSES ===\n",
      "\n",
      "DistilBERT:\n",
      "+ Plus rapide et léger\n",
      "+ Moins de mémoire requise\n",
      "+ Bon pour déploiement mobile/edge\n",
      "- Performance légèrement inférieure\n",
      "\n",
      "BERT:\n",
      "+ Modèle de référence, bien testé\n",
      "+ Potentiellement plus stable\n",
      "+ Meilleure performance\n",
      "- Plus lent et plus lourd\n",
      "- Plus de ressources requises\n"
     ]
    }
   ],
   "execution_count": 18
  },
  {
   "metadata": {},
   "cell_type": "markdown",
   "source": "## Modèles de génération de texte",
   "id": "2bdb4865af39de8c"
  },
  {
   "metadata": {
    "ExecuteTime": {
     "end_time": "2025-06-13T07:37:48.608905Z",
     "start_time": "2025-06-13T07:37:48.605299Z"
    }
   },
   "cell_type": "code",
   "source": [
    "try:\n",
    "    import sentencepiece\n",
    "    print(\"SentencePiece importé avec succès!\")\n",
    "    print(f\"Version: {sentencepiece.__version__}\")\n",
    "except ImportError as e:\n",
    "    print(f\"Erreur d'import: {e}\")"
   ],
   "id": "f119f4fe9a363617",
   "outputs": [
    {
     "name": "stdout",
     "output_type": "stream",
     "text": [
      "Erreur d'import: No module named 'sentencepiece'\n"
     ]
    }
   ],
   "execution_count": 19
  },
  {
   "metadata": {
    "ExecuteTime": {
     "end_time": "2025-06-13T07:40:42.299641Z",
     "start_time": "2025-06-13T07:40:37.463441Z"
    }
   },
   "cell_type": "code",
   "source": [
    "gpt2_tokenizer = AutoTokenizer.from_pretrained(\"distilgpt2\")\n",
    "gpt2_model = AutoModelForCausalLM.from_pretrained(\"distilgpt2\").to(device)\n",
    "gpt2_tokenizer.pad_token = gpt2_tokenizer.eos_token\n",
    "\n",
    "# T5-small\n",
    "t5_tokenizer = AutoTokenizer.from_pretrained(\"t5-small\")\n",
    "t5_model = T5ForConditionalGeneration.from_pretrained(\"t5-small\").to(device)"
   ],
   "id": "2dc4d0bb773a8137",
   "outputs": [],
   "execution_count": 23
  },
  {
   "metadata": {
    "ExecuteTime": {
     "end_time": "2025-06-13T07:40:43.456425Z",
     "start_time": "2025-06-13T07:40:43.452466Z"
    }
   },
   "cell_type": "code",
   "source": [
    "# Prompts pour génération libre (GPT2)\n",
    "generation_prompts = [\n",
    "    \"The future of artificial intelligence is\",\n",
    "    \"Climate change affects our planet by\",\n",
    "    \"Technology has revolutionized the way we\",\n",
    "    \"In the next decade, we will see\",\n",
    "    \"The most important scientific discovery\",\n",
    "    \"Social media platforms have changed\",\n",
    "    \"Renewable energy sources are becoming\",\n",
    "    \"Space exploration continues to reveal\"\n",
    "]\n",
    "\n",
    "# Tâches pour T5 (format text-to-text)\n",
    "t5_tasks = [\n",
    "    \"summarize: Artificial intelligence is rapidly advancing and transforming various industries. Machine learning algorithms are becoming more sophisticated, enabling computers to perform tasks that were once thought to be exclusively human. From healthcare to transportation, AI is revolutionizing how we work and live.\",\n",
    "    \"translate English to French: Hello, how are you today?\",\n",
    "    \"question: What is the capital of France? context: Paris is the capital and most populous city of France.\",\n",
    "    \"summarize: Climate change is one of the most pressing issues of our time. Rising temperatures, melting ice caps, and extreme weather events are clear indicators of our changing climate. Scientists worldwide are working to understand and mitigate these effects.\",\n",
    "    \"translate English to German: I love learning new languages.\",\n",
    "    \"question: What causes climate change? context: Climate change is primarily caused by human activities such as burning fossil fuels, deforestation, and industrial processes.\",\n",
    "    \"summarize: Technology has transformed education through online learning platforms, digital resources, and interactive tools. Students can now access information instantly and learn at their own pace.\",\n",
    "    \"translate English to Spanish: The weather is beautiful today.\"\n",
    "]\n",
    "\n",
    "# Textes de référence pour évaluation\n",
    "reference_texts = [\n",
    "    \"AI advances rapidly, transforming industries through sophisticated machine learning.\",\n",
    "    \"Bonjour, comment allez-vous aujourd'hui?\",\n",
    "    \"Paris\",\n",
    "    \"Climate change presents urgent challenges with rising temperatures and extreme weather.\",\n",
    "    \"Ich liebe es, neue Sprachen zu lernen.\",\n",
    "    \"Human activities like burning fossil fuels cause climate change.\",\n",
    "    \"Technology transforms education through online platforms and digital tools.\",\n",
    "    \"El clima está hermoso hoy.\"\n",
    "]"
   ],
   "id": "bf4ab9f28c928765",
   "outputs": [],
   "execution_count": 24
  },
  {
   "metadata": {
    "ExecuteTime": {
     "end_time": "2025-06-13T07:40:44.199944Z",
     "start_time": "2025-06-13T07:40:44.195764Z"
    }
   },
   "cell_type": "code",
   "source": [
    "def calculate_perplexity(model, tokenizer, texts, is_t5=False):\n",
    "    \"\"\"Calcule la perplexité\"\"\"\n",
    "    perplexities = []\n",
    "\n",
    "    for text in texts:\n",
    "        if is_t5:\n",
    "            # Pour T5, on utilise une tâche de génération\n",
    "            input_text = f\"generate: {text}\"\n",
    "            inputs = tokenizer(input_text, return_tensors=\"pt\", truncation=True, max_length=512).to(device)\n",
    "            labels = tokenizer(text, return_tensors=\"pt\", truncation=True, max_length=512).to(device)\n",
    "\n",
    "            with torch.no_grad():\n",
    "                outputs = model(**inputs, labels=labels.input_ids)\n",
    "                loss = outputs.loss.item()\n",
    "        else:\n",
    "            # Pour GPT2\n",
    "            inputs = tokenizer(text, return_tensors=\"pt\", truncation=True, max_length=512).to(device)\n",
    "\n",
    "            with torch.no_grad():\n",
    "                outputs = model(**inputs, labels=inputs.input_ids)\n",
    "                loss = outputs.loss.item()\n",
    "\n",
    "        perplexity = math.exp(loss)\n",
    "        perplexities.append(perplexity)\n",
    "\n",
    "    return perplexities"
   ],
   "id": "196792d59c5d154c",
   "outputs": [],
   "execution_count": 25
  },
  {
   "metadata": {
    "ExecuteTime": {
     "end_time": "2025-06-13T07:40:44.697348Z",
     "start_time": "2025-06-13T07:40:44.692447Z"
    }
   },
   "cell_type": "code",
   "source": [
    "def measure_generation_time(model, tokenizer, prompts, is_t5=False, max_length=50):\n",
    "    \"\"\"Mesure le temps de génération\"\"\"\n",
    "    times = []\n",
    "    generated_texts = []\n",
    "\n",
    "    for prompt in prompts:\n",
    "        start_time = time.time()\n",
    "\n",
    "        if is_t5:\n",
    "            inputs = tokenizer(prompt, return_tensors=\"pt\", truncation=True, max_length=512).to(device)\n",
    "            with torch.no_grad():\n",
    "                outputs = model.generate(\n",
    "                    **inputs,\n",
    "                    max_length=max_length,\n",
    "                    num_return_sequences=1,\n",
    "                    do_sample=True,\n",
    "                    temperature=0.7,\n",
    "                    pad_token_id=tokenizer.pad_token_id\n",
    "                )\n",
    "            generated_text = tokenizer.decode(outputs[0], skip_special_tokens=True)\n",
    "        else:\n",
    "            inputs = tokenizer(prompt, return_tensors=\"pt\").to(device)\n",
    "            with torch.no_grad():\n",
    "                outputs = model.generate(\n",
    "                    **inputs,\n",
    "                    max_length=len(inputs.input_ids[0]) + max_length,\n",
    "                    num_return_sequences=1,\n",
    "                    do_sample=True,\n",
    "                    temperature=0.7,\n",
    "                    pad_token_id=tokenizer.eos_token_id\n",
    "                )\n",
    "            generated_text = tokenizer.decode(outputs[0], skip_special_tokens=True)\n",
    "\n",
    "        end_time = time.time()\n",
    "        times.append(end_time - start_time)\n",
    "        generated_texts.append(generated_text)\n",
    "\n",
    "        torch.cuda.empty_cache() if torch.cuda.is_available() else None\n",
    "\n",
    "    return times, generated_texts\n"
   ],
   "id": "16bb65abde40ddd6",
   "outputs": [],
   "execution_count": 26
  },
  {
   "metadata": {
    "ExecuteTime": {
     "end_time": "2025-06-13T07:40:45.431167Z",
     "start_time": "2025-06-13T07:40:45.276765Z"
    }
   },
   "cell_type": "code",
   "source": [
    "from rouge_score import rouge_scorer\n",
    "\n",
    "def calculate_rouge_scores(generated_texts, reference_texts):\n",
    "    \"\"\"Calcule les scores ROUGE\"\"\"\n",
    "    scorer = rouge_scorer.RougeScorer(['rouge1', 'rouge2', 'rougeL'], use_stemmer=True)\n",
    "    rouge_scores = {'rouge1': [], 'rouge2': [], 'rougeL': []}\n",
    "\n",
    "    for gen, ref in zip(generated_texts, reference_texts):\n",
    "        scores = scorer.score(ref, gen)\n",
    "        rouge_scores['rouge1'].append(scores['rouge1'].fmeasure)\n",
    "        rouge_scores['rouge2'].append(scores['rouge2'].fmeasure)\n",
    "        rouge_scores['rougeL'].append(scores['rougeL'].fmeasure)\n",
    "\n",
    "    return {\n",
    "        'rouge1': np.mean(rouge_scores['rouge1']),\n",
    "        'rouge2': np.mean(rouge_scores['rouge2']),\n",
    "        'rougeL': np.mean(rouge_scores['rougeL'])\n",
    "    }"
   ],
   "id": "6e56f38a0d08e3d9",
   "outputs": [],
   "execution_count": 27
  },
  {
   "metadata": {
    "ExecuteTime": {
     "end_time": "2025-06-13T07:40:46.052453Z",
     "start_time": "2025-06-13T07:40:46.047496Z"
    }
   },
   "cell_type": "code",
   "source": [
    "from collections import Counter\n",
    "\n",
    "def calculate_diversity_metrics(texts):\n",
    "    \"\"\"Calcule les métriques de diversité\"\"\"\n",
    "    all_tokens = []\n",
    "    for text in texts:\n",
    "        tokens = text.lower().split()\n",
    "        all_tokens.extend(tokens)\n",
    "\n",
    "    # Vocabulaire unique\n",
    "    unique_tokens = len(set(all_tokens))\n",
    "    total_tokens = len(all_tokens)\n",
    "\n",
    "    # Type-Token Ratio (TTR)\n",
    "    ttr = unique_tokens / total_tokens if total_tokens > 0 else 0\n",
    "\n",
    "    # Entropie\n",
    "    token_counts = Counter(all_tokens)\n",
    "    probs = [count / total_tokens for count in token_counts.values()]\n",
    "    entropy = -sum(p * math.log2(p) for p in probs if p > 0)\n",
    "\n",
    "    return {\n",
    "        'unique_tokens': unique_tokens,\n",
    "        'total_tokens': total_tokens,\n",
    "        'ttr': ttr,\n",
    "        'entropy': entropy\n",
    "    }"
   ],
   "id": "43f62ee570013a0d",
   "outputs": [],
   "execution_count": 28
  },
  {
   "metadata": {
    "ExecuteTime": {
     "end_time": "2025-06-13T07:41:00.895351Z",
     "start_time": "2025-06-13T07:40:46.860549Z"
    }
   },
   "cell_type": "code",
   "source": [
    "print(\"\\n=== ÉVALUATION DISTILGPT2 ===\")\n",
    "\n",
    "# Métriques de base\n",
    "gpt2_params = count_parameters(gpt2_model)\n",
    "gpt2_size = get_model_size(gpt2_model)\n",
    "\n",
    "# Génération et temps\n",
    "gpt2_times, gpt2_generations = measure_generation_time(gpt2_model, gpt2_tokenizer, generation_prompts, is_t5=False)\n",
    "\n",
    "# Perplexité sur les prompts\n",
    "gpt2_perplexities = calculate_perplexity(gpt2_model, gpt2_tokenizer, generation_prompts[:5], is_t5=False)\n",
    "\n",
    "# Métriques de diversité\n",
    "gpt2_diversity = calculate_diversity_metrics(gpt2_generations)\n",
    "\n",
    "print(f\"DistilGPT2 - Nombre de paramètres: {gpt2_params:,}\")\n",
    "print(f\"DistilGPT2 - Taille du modèle: {gpt2_size:.2f} MB\")\n",
    "print(f\"DistilGPT2 - Temps moyen de génération: {np.mean(gpt2_times):.4f}s\")\n",
    "print(f\"DistilGPT2 - Perplexité moyenne: {np.mean(gpt2_perplexities):.2f}\")\n",
    "print(f\"DistilGPT2 - TTR (diversité): {gpt2_diversity['ttr']:.3f}\")\n",
    "print(f\"DistilGPT2 - Entropie: {gpt2_diversity['entropy']:.2f}\")\n",
    "\n",
    "# Affichage d'exemples de génération\n",
    "print(\"\\nExemples de génération DistilGPT2:\")\n",
    "for i, (prompt, gen) in enumerate(zip(generation_prompts[:3], gpt2_generations[:3])):\n",
    "    print(f\"{i+1}. Prompt: {prompt}\")\n",
    "    print(f\"   Génération: {gen}\")\n",
    "    print()"
   ],
   "id": "3546e83b87aab34c",
   "outputs": [
    {
     "name": "stdout",
     "output_type": "stream",
     "text": [
      "\n",
      "=== ÉVALUATION DISTILGPT2 ===\n"
     ]
    },
    {
     "name": "stderr",
     "output_type": "stream",
     "text": [
      "`loss_type=None` was set in the config but it is unrecognised.Using the default loss: `ForCausalLMLoss`.\n"
     ]
    },
    {
     "name": "stdout",
     "output_type": "stream",
     "text": [
      "DistilGPT2 - Nombre de paramètres: 81,912,576\n",
      "DistilGPT2 - Taille du modèle: 318.47 MB\n",
      "DistilGPT2 - Temps moyen de génération: 1.7274s\n",
      "DistilGPT2 - Perplexité moyenne: 168.82\n",
      "DistilGPT2 - TTR (diversité): 0.417\n",
      "DistilGPT2 - Entropie: 5.97\n",
      "\n",
      "Exemples de génération DistilGPT2:\n",
      "1. Prompt: The future of artificial intelligence is\n",
      "   Génération: The future of artificial intelligence is not in the realms of Artificial Intelligence, but in the realms of Artificial Intelligence. It is in the realm of Artificial Intelligence. It is in the realm of Artificial Intelligence. It is in the realm of Artificial Intelligence. It is in the realm of Artificial\n",
      "\n",
      "2. Prompt: Climate change affects our planet by\n",
      "   Génération: Climate change affects our planet by releasing carbon dioxide, heat and heat from the atmosphere, the Earth›, and changing atmospheric conditions.\n",
      "\n",
      "\n",
      "\n",
      "\n",
      "\n",
      "\n",
      "\n",
      "\n",
      "\n",
      "\n",
      "\n",
      "\n",
      "\n",
      "\n",
      "\n",
      "\n",
      "\n",
      "\n",
      "\n",
      "\n",
      "\n",
      "\n",
      "\n",
      "\n",
      "\n",
      "\n",
      "\n",
      "\n",
      "\n",
      "\n",
      "3. Prompt: Technology has revolutionized the way we\n",
      "   Génération: Technology has revolutionized the way we use our knowledge to enhance our lives.\n",
      "\n",
      "\n",
      "\n",
      "\n",
      "\n",
      "\n",
      "\n",
      "\n",
      "\n",
      "\n",
      "\n",
      "\n",
      "\n",
      "\n",
      "\n",
      "\n",
      "\n",
      "\n",
      "\n",
      "\n",
      "\n",
      "\n",
      "\n",
      "\n",
      "\n",
      "\n",
      "\n",
      "\n",
      "\n",
      "\n",
      "\n",
      "\n",
      "\n",
      "\n",
      "\n",
      "\n",
      "\n",
      "\n",
      "\n",
      "\n",
      "\n",
      "\n",
      "\n"
     ]
    }
   ],
   "execution_count": 29
  },
  {
   "metadata": {
    "ExecuteTime": {
     "end_time": "2025-06-13T07:41:02.391350Z",
     "start_time": "2025-06-13T07:41:00.899476Z"
    }
   },
   "cell_type": "code",
   "source": [
    "print(\"\\n=== ÉVALUATION T5-SMALL ===\")\n",
    "\n",
    "# Métriques de base\n",
    "t5_params = count_parameters(t5_model)\n",
    "t5_size = get_model_size(t5_model)\n",
    "\n",
    "# Génération et temps\n",
    "t5_times, t5_generations = measure_generation_time(t5_model, t5_tokenizer, t5_tasks, is_t5=True)\n",
    "\n",
    "# Scores ROUGE par rapport aux références\n",
    "t5_rouge = calculate_rouge_scores(t5_generations, reference_texts)\n",
    "\n",
    "# Métriques de diversité\n",
    "t5_diversity = calculate_diversity_metrics(t5_generations)\n",
    "\n",
    "print(f\"T5-small - Nombre de paramètres: {t5_params:,}\")\n",
    "print(f\"T5-small - Taille du modèle: {t5_size:.2f} MB\")\n",
    "print(f\"T5-small - Temps moyen de génération: {np.mean(t5_times):.4f}s\")\n",
    "print(f\"T5-small - ROUGE-1: {t5_rouge['rouge1']:.3f}\")\n",
    "print(f\"T5-small - ROUGE-2: {t5_rouge['rouge2']:.3f}\")\n",
    "print(f\"T5-small - ROUGE-L: {t5_rouge['rougeL']:.3f}\")\n",
    "print(f\"T5-small - TTR (diversité): {t5_diversity['ttr']:.3f}\")\n",
    "print(f\"T5-small - Entropie: {t5_diversity['entropy']:.2f}\")\n",
    "\n",
    "# Affichage d'exemples de génération\n",
    "print(\"\\nExemples de génération T5-small:\")\n",
    "for i, (task, gen) in enumerate(zip(t5_tasks[:3], t5_generations[:3])):\n",
    "    print(f\"{i+1}. Tâche: {task}\")\n",
    "    print(f\"   Génération: {gen}\")\n",
    "    print(f\"   Référence: {reference_texts[i]}\")\n",
    "    print()"
   ],
   "id": "30c34ed3cb671d21",
   "outputs": [
    {
     "name": "stdout",
     "output_type": "stream",
     "text": [
      "\n",
      "=== ÉVALUATION T5-SMALL ===\n",
      "T5-small - Nombre de paramètres: 60,506,624\n",
      "T5-small - Taille du modèle: 230.81 MB\n",
      "T5-small - Temps moyen de génération: 0.1856s\n",
      "T5-small - ROUGE-1: 0.474\n",
      "T5-small - ROUGE-2: 0.200\n",
      "T5-small - ROUGE-L: 0.444\n",
      "T5-small - TTR (diversité): 0.918\n",
      "T5-small - Entropie: 6.02\n",
      "\n",
      "Exemples de génération T5-small:\n",
      "1. Tâche: summarize: Artificial intelligence is rapidly advancing and transforming various industries. Machine learning algorithms are becoming more sophisticated, enabling computers to perform tasks that were once thought to be exclusively human. From healthcare to transportation, AI is revolutionizing how we work and live.\n",
      "   Génération: machine learning algorithms are becoming more sophisticated. computers can perform tasks that were once thought to be exclusively human.\n",
      "   Référence: AI advances rapidly, transforming industries through sophisticated machine learning.\n",
      "\n",
      "2. Tâche: translate English to French: Hello, how are you today?\n",
      "   Génération: Bonjour, comment êtes-vous aujourd’hui?\n",
      "   Référence: Bonjour, comment allez-vous aujourd'hui?\n",
      "\n",
      "3. Tâche: question: What is the capital of France? context: Paris is the capital and most populous city of France.\n",
      "   Génération: Paris\n",
      "   Référence: Paris\n",
      "\n"
     ]
    }
   ],
   "execution_count": 30
  },
  {
   "metadata": {
    "ExecuteTime": {
     "end_time": "2025-06-13T07:41:04.610374Z",
     "start_time": "2025-06-13T07:41:02.420623Z"
    }
   },
   "cell_type": "code",
   "source": [
    "print(\"\\n=== COMPARAISON SUR TÂCHE DE COMPLÉTION ===\")\n",
    "\n",
    "# Prompts communs pour comparaison\n",
    "common_prompts = [\n",
    "    \"The benefits of renewable energy include\",\n",
    "    \"Artificial intelligence will help us\",\n",
    "    \"The future of space exploration\"\n",
    "]\n",
    "\n",
    "# Génération GPT2\n",
    "gpt2_common_times, gpt2_common_gens = measure_generation_time(gpt2_model, gpt2_tokenizer, common_prompts, is_t5=False, max_length=30)\n",
    "\n",
    "# Génération T5 (conversion en format text-to-text)\n",
    "t5_common_prompts = [f\"generate: {prompt}\" for prompt in common_prompts]\n",
    "t5_common_times, t5_common_gens = measure_generation_time(t5_model, t5_tokenizer, t5_common_prompts, is_t5=True, max_length=30)\n",
    "\n",
    "print(\"Comparaison directe:\")\n",
    "for i, prompt in enumerate(common_prompts):\n",
    "    print(f\"\\nPrompt: {prompt}\")\n",
    "    print(f\"GPT2 ({gpt2_common_times[i]:.3f}s): {gpt2_common_gens[i]}\")\n",
    "    print(f\"T5 ({t5_common_times[i]:.3f}s): {t5_common_gens[i]}\")"
   ],
   "id": "44c316c01cef1a9d",
   "outputs": [
    {
     "name": "stdout",
     "output_type": "stream",
     "text": [
      "\n",
      "=== COMPARAISON SUR TÂCHE DE COMPLÉTION ===\n",
      "Comparaison directe:\n",
      "\n",
      "Prompt: The benefits of renewable energy include\n",
      "GPT2 (0.662s): The benefits of renewable energy include the ability to drive clean energy, and the ability to reduce carbon pollution. These include the ability to reduce the cost of electricity by reducing the consumption of\n",
      "T5 (0.035s): Energie\n",
      "\n",
      "Prompt: Artificial intelligence will help us\n",
      "GPT2 (0.641s): Artificial intelligence will help us to become more complex, more intelligent, more intelligent, more intelligent, and more intelligent, and more intelligent, and more intelligent, and more intelligent,\n",
      "T5 (0.108s): generate: artificial intelligence will help us\n",
      "\n",
      "Prompt: The future of space exploration\n",
      "GPT2 (0.614s): The future of space exploration will depend on a number of factors. These include the fact that the current atmosphere is being cooled by solar-powered particles, because this will reduce the\n",
      "T5 (0.125s): d gener: The future of space exploration\n"
     ]
    }
   ],
   "execution_count": 31
  },
  {
   "metadata": {
    "ExecuteTime": {
     "end_time": "2025-06-13T07:41:04.642765Z",
     "start_time": "2025-06-13T07:41:04.636306Z"
    }
   },
   "cell_type": "code",
   "source": [
    "comparison_data = {\n",
    "    'Modèle': ['DistilGPT2', 'T5-small'],\n",
    "    'Paramètres (M)': [gpt2_params/1e6, t5_params/1e6],\n",
    "    'Taille (MB)': [gpt2_size, t5_size],\n",
    "    'Temps génération (s)': [np.mean(gpt2_times), np.mean(t5_times)],\n",
    "    'Architecture': ['Decoder-only', 'Encoder-Decoder'],\n",
    "    'Diversité (TTR)': [gpt2_diversity['ttr'], t5_diversity['ttr']],\n",
    "    'Entropie': [gpt2_diversity['entropy'], t5_diversity['entropy']],\n",
    "    'Cas d\\'usage': ['Génération libre', 'Tâches structurées']\n",
    "}\n",
    "\n",
    "# Ajout des métriques spécifiques\n",
    "comparison_data['Métrique qualité'] = [f\"Perplexité: {np.mean(gpt2_perplexities):.2f}\",\n",
    "                                      f\"ROUGE-L: {t5_rouge['rougeL']:.3f}\"]\n",
    "\n",
    "df_comparison = pd.DataFrame(comparison_data)\n",
    "print(\"\\n=== TABLEAU COMPARATIF ===\")\n",
    "print(df_comparison)"
   ],
   "id": "d7bae3f99f3be2b1",
   "outputs": [
    {
     "name": "stdout",
     "output_type": "stream",
     "text": [
      "\n",
      "=== TABLEAU COMPARATIF ===\n",
      "       Modèle  Paramètres (M)  Taille (MB)  Temps génération (s)  \\\n",
      "0  DistilGPT2       81.912576   318.471703              1.727396   \n",
      "1    T5-small       60.506624   230.814453              0.185559   \n",
      "\n",
      "      Architecture  Diversité (TTR)  Entropie         Cas d'usage  \\\n",
      "0     Decoder-only         0.416667  5.966338    Génération libre   \n",
      "1  Encoder-Decoder         0.917808  6.015100  Tâches structurées   \n",
      "\n",
      "     Métrique qualité  \n",
      "0  Perplexité: 168.82  \n",
      "1      ROUGE-L: 0.444  \n"
     ]
    }
   ],
   "execution_count": 32
  },
  {
   "metadata": {
    "ExecuteTime": {
     "end_time": "2025-06-13T07:41:04.684376Z",
     "start_time": "2025-06-13T07:41:04.679736Z"
    }
   },
   "cell_type": "code",
   "source": [
    "print(\"\\n=== ANALYSE DES FORCES ET FAIBLESSES ===\")\n",
    "\n",
    "# Calcul des ratios\n",
    "gpt2_efficiency = 1 / (np.mean(gpt2_times) * gpt2_size)  # Inverse du produit temps*taille\n",
    "t5_efficiency = 1 / (np.mean(t5_times) * t5_size)\n",
    "\n",
    "print(f\"\\nRatio efficacité globale:\")\n",
    "print(f\"DistilGPT2: {gpt2_efficiency:.6f}\")\n",
    "print(f\"T5-small: {t5_efficiency:.6f}\")\n",
    "\n",
    "print(f\"\\nComparaison des tailles:\")\n",
    "print(f\"T5-small est {t5_size/gpt2_size:.1f}x plus lourd que DistilGPT2\")\n",
    "\n",
    "print(f\"\\nComparaison des vitesses:\")\n",
    "print(f\"DistilGPT2 est {np.mean(t5_times)/np.mean(gpt2_times):.1f}x plus rapide que T5-small\")\n",
    "\n",
    "print(\"\\n=== FORCES ET FAIBLESSES ===\")\n",
    "print(\"\\nDistilGPT2:\")\n",
    "print(\"+ Plus rapide et léger\")\n",
    "print(\"+ Excellent pour génération créative libre\")\n",
    "print(\"+ Texte fluide et naturel\")\n",
    "print(\"+ Moins de ressources requises\")\n",
    "print(\"- Limité aux tâches de génération\")\n",
    "print(\"- Pas de contrôle de tâche spécifique\")\n",
    "print(\"- Peut dévier du sujet\")\n",
    "\n",
    "print(\"\\nT5-small:\")\n",
    "print(\"+ Polyvalent (traduction, résumé, Q&A)\")\n",
    "print(\"+ Contrôle précis des tâches\")\n",
    "print(\"+ Architecture encoder-decoder robuste\")\n",
    "print(\"+ Meilleur pour tâches structurées\")\n",
    "print(\"- Plus lent et plus lourd\")\n",
    "print(\"- Nécessite plus de ressources\")\n",
    "print(\"- Moins naturel pour génération libre\")\n"
   ],
   "id": "dd41be0fc0cb9014",
   "outputs": [
    {
     "name": "stdout",
     "output_type": "stream",
     "text": [
      "\n",
      "=== ANALYSE DES FORCES ET FAIBLESSES ===\n",
      "\n",
      "Ratio efficacité globale:\n",
      "DistilGPT2: 0.001818\n",
      "T5-small: 0.023348\n",
      "\n",
      "Comparaison des tailles:\n",
      "T5-small est 0.7x plus lourd que DistilGPT2\n",
      "\n",
      "Comparaison des vitesses:\n",
      "DistilGPT2 est 0.1x plus rapide que T5-small\n",
      "\n",
      "=== FORCES ET FAIBLESSES ===\n",
      "\n",
      "DistilGPT2:\n",
      "+ Plus rapide et léger\n",
      "+ Excellent pour génération créative libre\n",
      "+ Texte fluide et naturel\n",
      "+ Moins de ressources requises\n",
      "- Limité aux tâches de génération\n",
      "- Pas de contrôle de tâche spécifique\n",
      "- Peut dévier du sujet\n",
      "\n",
      "T5-small:\n",
      "+ Polyvalent (traduction, résumé, Q&A)\n",
      "+ Contrôle précis des tâches\n",
      "+ Architecture encoder-decoder robuste\n",
      "+ Meilleur pour tâches structurées\n",
      "- Plus lent et plus lourd\n",
      "- Nécessite plus de ressources\n",
      "- Moins naturel pour génération libre\n"
     ]
    }
   ],
   "execution_count": 33
  },
  {
   "metadata": {
    "ExecuteTime": {
     "end_time": "2025-06-13T07:41:05.020680Z",
     "start_time": "2025-06-13T07:41:04.728861Z"
    }
   },
   "cell_type": "code",
   "source": [
    "plt.style.use('seaborn-v0_8')\n",
    "fig, axes = plt.subplots(2, 2, figsize=(15, 12))\n",
    "\n",
    "# 1. Comparaison des tailles et paramètres\n",
    "models = ['DistilGPT2', 'T5-small']\n",
    "sizes = [gpt2_size, t5_size]\n",
    "params = [gpt2_params/1e6, t5_params/1e6]\n",
    "\n",
    "axes[0,0].bar(models, sizes, color=['lightblue', 'lightcoral'])\n",
    "axes[0,0].set_title('Taille des modèles (MB)')\n",
    "axes[0,0].set_ylabel('Taille (MB)')\n",
    "for i, v in enumerate(sizes):\n",
    "    axes[0,0].text(i, v + 5, f'{v:.1f}', ha='center', va='bottom')\n",
    "\n",
    "axes[0,1].bar(models, params, color=['lightgreen', 'orange'])\n",
    "axes[0,1].set_title('Nombre de paramètres (millions)')\n",
    "axes[0,1].set_ylabel('Paramètres (M)')\n",
    "for i, v in enumerate(params):\n",
    "    axes[0,1].text(i, v + 1, f'{v:.1f}M', ha='center', va='bottom')\n",
    "\n",
    "# 2. Temps de génération\n",
    "gen_times = [np.mean(gpt2_times), np.mean(t5_times)]\n",
    "common_times = [np.mean(gpt2_common_times), np.mean(t5_common_times)]\n",
    "\n",
    "x = np.arange(len(models))\n",
    "width = 0.35\n",
    "\n",
    "axes[1,0].bar(x - width/2, gen_times, width, label='Tâches spécifiques', color='skyblue')\n",
    "axes[1,0].bar(x + width/2, common_times, width, label='Tâches communes', color='lightcoral')\n",
    "axes[1,0].set_title('Temps de génération (secondes)')\n",
    "axes[1,0].set_ylabel('Temps (s)')\n",
    "axes[1,0].set_xticks(x)\n",
    "axes[1,0].set_xticklabels(models)\n",
    "axes[1,0].legend()\n",
    "\n",
    "# 3. Métriques de diversité\n",
    "diversity_metrics = ['TTR', 'Entropie']\n",
    "gpt2_div = [gpt2_diversity['ttr'], gpt2_diversity['entropy']/10]  # Normalisation entropie\n",
    "t5_div = [t5_diversity['ttr'], t5_diversity['entropy']/10]\n",
    "\n",
    "x = np.arange(len(diversity_metrics))\n",
    "axes[1,1].bar(x - width/2, gpt2_div, width, label='DistilGPT2', color='lightblue')\n",
    "axes[1,1].bar(x + width/2, t5_div, width, label='T5-small', color='lightcoral')\n",
    "axes[1,1].set_title('Métriques de diversité')\n",
    "axes[1,1].set_ylabel('Score (entropie/10)')\n",
    "axes[1,1].set_xticks(x)\n",
    "axes[1,1].set_xticklabels(diversity_metrics)\n",
    "axes[1,1].legend()\n",
    "\n",
    "plt.tight_layout()\n",
    "plt.show()"
   ],
   "id": "619dd1f0ec4e567b",
   "outputs": [
    {
     "data": {
      "text/plain": [
       "<Figure size 1500x1200 with 4 Axes>"
      ],
      "image/png": "[encoded data removed]"
     },
     "metadata": {},
     "output_type": "display_data"
    }
   ],
   "execution_count": 34
  },
  {
   "metadata": {},
   "cell_type": "code",
   "outputs": [],
   "execution_count": null,
   "source": "",
   "id": "91a435a67a5bdf89"
  }
 ],
 "metadata": {
  "kernelspec": {
   "name": "python3",
   "language": "python",
   "display_name": "Python 3 (ipykernel)"
  }
 },
 "nbformat": 5,
 "nbformat_minor": 9
}
